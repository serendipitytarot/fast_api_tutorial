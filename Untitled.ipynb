{
 "cells": [
  {
   "cell_type": "code",
   "execution_count": 1,
   "id": "b0eac4d1-9149-46ed-b870-7d0fb60462fd",
   "metadata": {},
   "outputs": [],
   "source": [
    "import psycopg2"
   ]
  },
  {
   "cell_type": "code",
   "execution_count": 2,
   "id": "d526d0a3-b7b9-49b0-9a13-38d54f019f36",
   "metadata": {},
   "outputs": [],
   "source": [
    "db_name = 'kris'\n",
    "db_user = 'kris'\n",
    "db_password = 'SJuALVOkZGDG8lqPsi8rVGU5AyQRuWNS'\n",
    "db_host = 'dpg-cs1trb08fa8c73d4p4u0-a.oregon-postgres.render.com'\n",
    "db_port = 5432"
   ]
  },
  {
   "cell_type": "code",
   "execution_count": 5,
   "id": "70a632ae-3678-4a38-b17b-578cc0b05ca8",
   "metadata": {},
   "outputs": [
    {
     "data": {
      "text/plain": [
       "[('Hsinchu', 26, 30, 60.0, datetime.date(2024, 10, 7))]"
      ]
     },
     "execution_count": 5,
     "metadata": {},
     "output_type": "execute_result"
    }
   ],
   "source": [
    "conn = psycopg2.connect(\n",
    "    database=db_name,\n",
    "    user=db_user,\n",
    "    password=db_password,\n",
    "    host=db_host,\n",
    "    port=db_port\n",
    ")\n",
    "\n",
    "cur = conn.cursor()\n",
    "select_query = \"select * from weather where city = 'Hsinchu'\"\n",
    "cur.execute(select_query)\n",
    "cur.fetchall()"
   ]
  }
 ],
 "metadata": {
  "kernelspec": {
   "display_name": "Python 3 (ipykernel)",
   "language": "python",
   "name": "python3"
  },
  "language_info": {
   "codemirror_mode": {
    "name": "ipython",
    "version": 3
   },
   "file_extension": ".py",
   "mimetype": "text/x-python",
   "name": "python",
   "nbconvert_exporter": "python",
   "pygments_lexer": "ipython3",
   "version": "3.12.3"
  }
 },
 "nbformat": 4,
 "nbformat_minor": 5
}
